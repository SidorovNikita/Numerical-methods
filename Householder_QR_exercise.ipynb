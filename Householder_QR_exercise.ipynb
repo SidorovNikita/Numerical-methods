{
  "nbformat": 4,
  "nbformat_minor": 0,
  "metadata": {
    "colab": {
      "name": "Householder_QR_exercise.ipynb",
      "version": "0.3.2",
      "provenance": [],
      "collapsed_sections": []
    },
    "kernelspec": {
      "display_name": "Python 3",
      "language": "python",
      "name": "python3"
    }
  },
  "cells": [
    {
      "metadata": {
        "id": "P1GZ10g8jLB-",
        "colab_type": "code",
        "colab": {}
      },
      "cell_type": "code",
      "source": [
        "import numpy as np\n",
        "\n",
        "from numpy.testing import assert_allclose"
      ],
      "execution_count": 0,
      "outputs": []
    },
    {
      "metadata": {
        "id": "R6d70TTJjLCZ",
        "colab_type": "text"
      },
      "cell_type": "markdown",
      "source": [
        "# Part I. Construct a Householder reflection of a vector."
      ]
    },
    {
      "metadata": {
        "id": "1G7shObPjLCg",
        "colab_type": "text"
      },
      "cell_type": "markdown",
      "source": [
        "Given a vector $\\mathbf{x}$, and a plane with a normal vector $\\mathbf{u}$, the Householder transformation reflects $\\mathbf{x}$ about the plane.\n",
        "\n",
        "The matrix of the Householder transformation is\n",
        "\n",
        "$$\n",
        "\\mathbf{H} = \\mathbf{1} - 2 \\mathbf{u} \\mathbf{u}^T\n",
        "$$\n",
        "\n",
        "Given two equal-length vectors $\\mathbf{x}$ and $\\mathbf{y}$, a rotation which brings $\\mathbf{x}$ to $\\mathbf{y}$ is a Householder transform with\n",
        "\n",
        "$$\n",
        "\\mathbf{u} = \\frac{\\mathbf{x} - \\mathbf{y}}{||\\mathbf{x} - \\mathbf{y}||}\n",
        "$$"
      ]
    },
    {
      "metadata": {
        "id": "aKt8CyfIjLCl",
        "colab_type": "code",
        "colab": {}
      },
      "cell_type": "code",
      "source": [
        "def householder(vec):\n",
        "    \"\"\"Construct a Householder reflection to zero out 2nd and further components of a vector.\n",
        "\n",
        "    Parameters\n",
        "    ----------\n",
        "    vec : array-like of floats, shape (n,)\n",
        "        Input vector\n",
        "    \n",
        "    Returns\n",
        "    -------\n",
        "    outvec : array of floats, shape (n,)\n",
        "        Transformed vector, with ``outvec[1:]==0`` and ``|outvec| == |vec|``\n",
        "    H : array of floats, shape (n, n)\n",
        "        Orthogonal matrix of the Householder reflection\n",
        "    \"\"\"\n",
        "    vec = np.asarray(vec, dtype=float)\n",
        "    if vec.ndim != 1:\n",
        "        raise ValueError(\"vec.ndim = %s, expected 1\" % vec.ndim)\n",
        "        \n",
        "    if len(vec)==1:\n",
        "      return vec,np.eye(1)\n",
        "    \n",
        "    norm=np.linalg.norm(vec)\n",
        "    outvec=np.array([0]*len(vec))*1.0\n",
        "    outvec[0]=norm\n",
        "    u=(vec-outvec)/np.linalg.norm(vec-outvec)\n",
        "    uu_T=np.outer(u,u)\n",
        "    E=np.eye(uu_T.shape[0])*1.0\n",
        "    H=E-2*uu_T\n",
        "    \n",
        "    return outvec,H\n",
        "    \n",
        "    # ENTER YOUR CODE HERE"
      ],
      "execution_count": 0,
      "outputs": []
    },
    {
      "metadata": {
        "id": "kGlsRQXCjLCx",
        "colab_type": "code",
        "outputId": "75b60ea2-42c8-4100-e5d7-c123577f63e4",
        "colab": {
          "base_uri": "https://localhost:8080/",
          "height": 540
        }
      },
      "cell_type": "code",
      "source": [
        "# Test (marked)\n",
        "\n",
        "v = np.array([1, 2, 3])*1.0\n",
        "v1, h = householder(v)\n",
        "assert_allclose(np.dot(h, v1), v)\n",
        "assert_allclose(np.dot(h, v), v1)"
      ],
      "execution_count": 174,
      "outputs": [
        {
          "output_type": "error",
          "ename": "AssertionError",
          "evalue": "ignored",
          "traceback": [
            "\u001b[0;31m---------------------------------------------------------------------------\u001b[0m",
            "\u001b[0;31mAssertionError\u001b[0m                            Traceback (most recent call last)",
            "\u001b[0;32m<ipython-input-174-dd3b5eb64c6f>\u001b[0m in \u001b[0;36m<module>\u001b[0;34m()\u001b[0m\n\u001b[1;32m      3\u001b[0m \u001b[0mv1\u001b[0m\u001b[0;34m,\u001b[0m \u001b[0mh\u001b[0m \u001b[0;34m=\u001b[0m \u001b[0mhouseholder\u001b[0m\u001b[0;34m(\u001b[0m\u001b[0mv\u001b[0m\u001b[0;34m)\u001b[0m\u001b[0;34m\u001b[0m\u001b[0;34m\u001b[0m\u001b[0m\n\u001b[1;32m      4\u001b[0m \u001b[0massert_allclose\u001b[0m\u001b[0;34m(\u001b[0m\u001b[0mnp\u001b[0m\u001b[0;34m.\u001b[0m\u001b[0mdot\u001b[0m\u001b[0;34m(\u001b[0m\u001b[0mh\u001b[0m\u001b[0;34m,\u001b[0m \u001b[0mv1\u001b[0m\u001b[0;34m)\u001b[0m\u001b[0;34m,\u001b[0m \u001b[0mv\u001b[0m\u001b[0;34m)\u001b[0m\u001b[0;34m\u001b[0m\u001b[0;34m\u001b[0m\u001b[0m\n\u001b[0;32m----> 5\u001b[0;31m \u001b[0massert_allclose\u001b[0m\u001b[0;34m(\u001b[0m\u001b[0mnp\u001b[0m\u001b[0;34m.\u001b[0m\u001b[0mdot\u001b[0m\u001b[0;34m(\u001b[0m\u001b[0mh\u001b[0m\u001b[0;34m,\u001b[0m \u001b[0mv\u001b[0m\u001b[0;34m)\u001b[0m\u001b[0;34m,\u001b[0m \u001b[0mv1\u001b[0m\u001b[0;34m)\u001b[0m\u001b[0;34m\u001b[0m\u001b[0;34m\u001b[0m\u001b[0m\n\u001b[0m",
            "\u001b[0;32m/usr/local/lib/python3.6/dist-packages/numpy/testing/nose_tools/utils.py\u001b[0m in \u001b[0;36massert_allclose\u001b[0;34m(actual, desired, rtol, atol, equal_nan, err_msg, verbose)\u001b[0m\n\u001b[1;32m   1396\u001b[0m     \u001b[0mheader\u001b[0m \u001b[0;34m=\u001b[0m \u001b[0;34m'Not equal to tolerance rtol=%g, atol=%g'\u001b[0m \u001b[0;34m%\u001b[0m \u001b[0;34m(\u001b[0m\u001b[0mrtol\u001b[0m\u001b[0;34m,\u001b[0m \u001b[0matol\u001b[0m\u001b[0;34m)\u001b[0m\u001b[0;34m\u001b[0m\u001b[0;34m\u001b[0m\u001b[0m\n\u001b[1;32m   1397\u001b[0m     assert_array_compare(compare, actual, desired, err_msg=str(err_msg),\n\u001b[0;32m-> 1398\u001b[0;31m                          verbose=verbose, header=header, equal_nan=equal_nan)\n\u001b[0m\u001b[1;32m   1399\u001b[0m \u001b[0;34m\u001b[0m\u001b[0m\n\u001b[1;32m   1400\u001b[0m \u001b[0;34m\u001b[0m\u001b[0m\n",
            "\u001b[0;32m/usr/local/lib/python3.6/dist-packages/numpy/testing/nose_tools/utils.py\u001b[0m in \u001b[0;36massert_array_compare\u001b[0;34m(comparison, x, y, err_msg, verbose, header, precision, equal_nan, equal_inf)\u001b[0m\n\u001b[1;32m    779\u001b[0m                                 \u001b[0mverbose\u001b[0m\u001b[0;34m=\u001b[0m\u001b[0mverbose\u001b[0m\u001b[0;34m,\u001b[0m \u001b[0mheader\u001b[0m\u001b[0;34m=\u001b[0m\u001b[0mheader\u001b[0m\u001b[0;34m,\u001b[0m\u001b[0;34m\u001b[0m\u001b[0;34m\u001b[0m\u001b[0m\n\u001b[1;32m    780\u001b[0m                                 names=('x', 'y'), precision=precision)\n\u001b[0;32m--> 781\u001b[0;31m             \u001b[0;32mraise\u001b[0m \u001b[0mAssertionError\u001b[0m\u001b[0;34m(\u001b[0m\u001b[0mmsg\u001b[0m\u001b[0;34m)\u001b[0m\u001b[0;34m\u001b[0m\u001b[0;34m\u001b[0m\u001b[0m\n\u001b[0m\u001b[1;32m    782\u001b[0m     \u001b[0;32mexcept\u001b[0m \u001b[0mValueError\u001b[0m\u001b[0;34m:\u001b[0m\u001b[0;34m\u001b[0m\u001b[0;34m\u001b[0m\u001b[0m\n\u001b[1;32m    783\u001b[0m         \u001b[0;32mimport\u001b[0m \u001b[0mtraceback\u001b[0m\u001b[0;34m\u001b[0m\u001b[0;34m\u001b[0m\u001b[0m\n",
            "\u001b[0;31mAssertionError\u001b[0m: \nNot equal to tolerance rtol=1e-07, atol=0\n\n(mismatch 33.33333333333333%)\n x: array([ 3.741657,  0.      , -0.      ])\n y: array([3.741657, 0.      , 0.      ])"
          ]
        }
      ]
    },
    {
      "metadata": {
        "id": "SMFffg8MVhc1",
        "colab_type": "text"
      },
      "cell_type": "markdown",
      "source": [
        "Assert не проходит, но видно, что на самом деле векторы совпадают."
      ]
    },
    {
      "metadata": {
        "id": "qosEBHVqjLC-",
        "colab_type": "code",
        "colab": {}
      },
      "cell_type": "code",
      "source": [
        "rndm = np.random.RandomState(1234)\n",
        "\n",
        "vec = rndm.uniform(size=7)\n",
        "v1, h = householder(vec)\n",
        "\n",
        "assert_allclose(np.dot(h, v1), vec)"
      ],
      "execution_count": 0,
      "outputs": []
    },
    {
      "metadata": {
        "id": "MQyUlOx3jLDW",
        "colab_type": "text"
      },
      "cell_type": "markdown",
      "source": [
        "# Part II. Compute the QR decomposition of a matrix.\n",
        "\n",
        "Given a rectangular $m\\times n$ matrix $\\mathbf{A}$, construct a Householder reflector matrix $\\mathbf{H}_1$ which transforms the first column of $\\mathbf{A}$ (and call the result $\\mathbf{A}^{(1)}$)\n",
        "\n",
        "$$\n",
        "\\mathbf{H}_1 \\mathbf{A} =%\n",
        "\\begin{pmatrix}\n",
        "\\times & \\times & \\times & \\dots & \\times \\\\\n",
        "0      & \\times & \\times & \\dots & \\times \\\\\n",
        "0      & \\times & \\times & \\dots & \\times \\\\\n",
        "&& \\dots&& \\\\\n",
        "0      & \\times & \\times & \\dots & \\times \\\\\n",
        "\\end{pmatrix}%\n",
        "\\equiv \\mathbf{A}^{(1)}\\;.\n",
        "$$\n",
        "\n",
        "Now consider the lower-right submatrix of $\\mathbf{A}^{(1)}$, and construct a Householder reflector which annihilates the second column of $\\mathbf{A}$:\n",
        "\n",
        "$$\n",
        "\\mathbf{H}_2 \\mathbf{A}^{(1)} =%\n",
        "\\begin{pmatrix}\n",
        "\\times & \\times & \\times & \\dots & \\times \\\\\n",
        "0      & \\times & \\times & \\dots & \\times \\\\\n",
        "0      & 0      & \\times & \\dots & \\times \\\\\n",
        "&& \\dots&& \\\\\n",
        "0      & 0      & \\times & \\dots & \\times \\\\\n",
        "\\end{pmatrix}%\n",
        "\\equiv \\mathbf{A}^{(2)} \\;.\n",
        "$$\n",
        "\n",
        "Repeating the process $n-1$ times, we obtain\n",
        "\n",
        "$$\n",
        "\\mathbf{H}_{n-1} \\cdots \\mathbf{H}_2 \\mathbf{H}_1 \\mathbf{A} = \\mathbf{R} \\;,\n",
        "$$\n",
        "\n",
        "with $\\mathbf{R}$ an upper triangular matrix. Since each $\\mathbf{H}_k$ is orthogonal, so is their product. The inverse of an orthogonal matrix is orthogonal. Hence the process generates the $QR$ decomposition of $\\mathbf{A}$. "
      ]
    },
    {
      "metadata": {
        "id": "voyyeIm6jLDZ",
        "colab_type": "code",
        "colab": {}
      },
      "cell_type": "code",
      "source": [
        "def qr_decomp(a):\n",
        "    \"\"\"Compute the QR decomposition of a matrix.\n",
        "    \n",
        "    Parameters\n",
        "    ----------\n",
        "    a : ndarray, shape(m, n)\n",
        "        The input matrix\n",
        "    \n",
        "    Returns\n",
        "    -------\n",
        "    q : ndarray, shape(m, m)\n",
        "        The orthogonal matrix\n",
        "    r : ndarray, shape(m, n)\n",
        "        The upper triangular matrix\n",
        "        \n",
        "    Examples\n",
        "    --------\n",
        "    >>> a = np.random.random(size=(3, 5))\n",
        "    >>> q, r = qr_decomp(a)\n",
        "    >>> np.assert_allclose(np.dot(q, r), a)\n",
        "    \n",
        "    \"\"\"\n",
        "    a1 = np.array(a, copy=True, dtype=float)\n",
        "    m, n = a1.shape\n",
        "  \n",
        "    # ENTER YOUR CODE HERE\n",
        "    R=a1\n",
        "    Q=np.eye(m,m)\n",
        "    for i in range(min(m,n)):\n",
        "      a_i=R[i:,i:]\n",
        "      H_i=householder(a_i[:,0])[1]\n",
        "      H_i_big=np.eye(m,m)\n",
        "      H_i_big[i:,i:]=H_i\n",
        "      Q=np.dot(H_i_big,Q)\n",
        "      R=np.dot(H_i_big,R)\n",
        "    \n",
        "    return np.linalg.inv(Q),R"
      ],
      "execution_count": 0,
      "outputs": []
    },
    {
      "metadata": {
        "id": "CGNlJKcqjLDm",
        "colab_type": "code",
        "colab": {}
      },
      "cell_type": "code",
      "source": [
        "# Might want to turn this on for prettier printing: zeros instead of `1e-16` etc\n",
        "\n",
        "np.set_printoptions(suppress=True)"
      ],
      "execution_count": 0,
      "outputs": []
    },
    {
      "metadata": {
        "id": "S_5Zw-BhjLDz",
        "colab_type": "code",
        "colab": {}
      },
      "cell_type": "code",
      "source": [
        "# Test (marked)\n",
        "\n",
        "rndm = np.random.RandomState(1234)\n",
        "a = rndm.uniform(size=(5, 3))\n",
        "q, r = qr_decomp(a)\n",
        "\n",
        "# test that Q is indeed orthogonal\n",
        "assert_allclose(np.dot(q, q.T), np.eye(5), atol=1e-10)\n",
        "\n",
        "# test the decomposition itself\n",
        "assert_allclose(np.dot(q, r), a)"
      ],
      "execution_count": 0,
      "outputs": []
    },
    {
      "metadata": {
        "id": "p6DOqIePjLD7",
        "colab_type": "text"
      },
      "cell_type": "markdown",
      "source": [
        "Now compare your decompositions to the library function (which actually wraps the corresponding LAPACK functions)"
      ]
    },
    {
      "metadata": {
        "id": "fV5gdZZcjLD9",
        "colab_type": "code",
        "colab": {}
      },
      "cell_type": "code",
      "source": [
        "from scipy.linalg import qr\n",
        "qq, rr = qr(a)\n",
        "\n",
        "assert_allclose(np.dot(qq, rr), a)"
      ],
      "execution_count": 0,
      "outputs": []
    },
    {
      "metadata": {
        "id": "PNkv8IGJEdki",
        "colab_type": "code",
        "colab": {
          "base_uri": "https://localhost:8080/",
          "height": 102
        },
        "outputId": "b7a931ee-14a0-47f9-d178-c95160a096ad"
      },
      "cell_type": "code",
      "source": [
        "print(a)"
      ],
      "execution_count": 180,
      "outputs": [
        {
          "output_type": "stream",
          "text": [
            "[[0.19151945 0.62210877 0.43772774]\n",
            " [0.78535858 0.77997581 0.27259261]\n",
            " [0.27646426 0.80187218 0.95813935]\n",
            " [0.87593263 0.35781727 0.50099513]\n",
            " [0.68346294 0.71270203 0.37025075]]\n"
          ],
          "name": "stdout"
        }
      ]
    },
    {
      "metadata": {
        "id": "hJFfOP2VB0UA",
        "colab_type": "code",
        "colab": {
          "base_uri": "https://localhost:8080/",
          "height": 187
        },
        "outputId": "40a70224-bc9c-4540-d23a-513c584157dd"
      },
      "cell_type": "code",
      "source": [
        "print(r)\n",
        "print(rr)"
      ],
      "execution_count": 181,
      "outputs": [
        {
          "output_type": "stream",
          "text": [
            "[[ 1.40152769  1.2514379   0.89523615]\n",
            " [ 0.          0.84158252  0.68447942]\n",
            " [-0.         -0.          0.5496046 ]\n",
            " [ 0.          0.          0.        ]\n",
            " [ 0.         -0.         -0.        ]]\n",
            "[[-1.40152769 -1.2514379  -0.89523615]\n",
            " [ 0.          0.84158252  0.68447942]\n",
            " [ 0.          0.         -0.5496046 ]\n",
            " [ 0.          0.          0.        ]\n",
            " [ 0.          0.          0.        ]]\n"
          ],
          "name": "stdout"
        }
      ]
    },
    {
      "metadata": {
        "id": "JFdg8sHxFEiS",
        "colab_type": "code",
        "colab": {
          "base_uri": "https://localhost:8080/",
          "height": 102
        },
        "outputId": "ce360048-d187-4f1b-dd38-6954e515fd18"
      },
      "cell_type": "code",
      "source": [
        "print(np.abs(r)-np.abs(rr))"
      ],
      "execution_count": 182,
      "outputs": [
        {
          "output_type": "stream",
          "text": [
            "[[ 0. -0. -0.]\n",
            " [ 0.  0.  0.]\n",
            " [ 0.  0.  0.]\n",
            " [ 0.  0.  0.]\n",
            " [ 0.  0.  0.]]\n"
          ],
          "name": "stdout"
        }
      ]
    },
    {
      "metadata": {
        "id": "MMClWBmqEMx9",
        "colab_type": "code",
        "colab": {
          "base_uri": "https://localhost:8080/",
          "height": 187
        },
        "outputId": "f4efb995-5aea-4271-aa1a-c93ea2a95d7d"
      },
      "cell_type": "code",
      "source": [
        "print(q)\n",
        "print(qq)"
      ],
      "execution_count": 183,
      "outputs": [
        {
          "output_type": "stream",
          "text": [
            "[[ 0.13665049  0.53601299 -0.09369752  0.7697136   0.30459557]\n",
            " [ 0.56035895  0.0935397  -0.53326881  0.01839528 -0.62652547]\n",
            " [ 0.19725922  0.65948912  0.60068463 -0.32384673 -0.24589462]\n",
            " [ 0.62498418 -0.50418303  0.52144688  0.28453698  0.04822969]\n",
            " [ 0.48765568  0.12171264 -0.27224305 -0.47049398  0.67223293]]\n",
            "[[-0.13665049  0.53601299  0.09369752  0.661619   -0.49749149]\n",
            " [-0.56035895  0.0935397   0.53326881 -0.52477245 -0.34276292]\n",
            " [-0.19725922  0.65948912 -0.60068463 -0.37879015  0.14784752]\n",
            " [-0.62498418 -0.50418303 -0.52144688  0.18967657 -0.21750907]\n",
            " [-0.48765568  0.12171264  0.27224305  0.32774225  0.75222783]]\n"
          ],
          "name": "stdout"
        }
      ]
    },
    {
      "metadata": {
        "id": "OCPsumEkFJIj",
        "colab_type": "code",
        "colab": {
          "base_uri": "https://localhost:8080/",
          "height": 102
        },
        "outputId": "d164d8bf-f11a-4fee-cba1-9d17c4b062d5"
      },
      "cell_type": "code",
      "source": [
        "print(np.abs(q)-np.abs(qq))"
      ],
      "execution_count": 184,
      "outputs": [
        {
          "output_type": "stream",
          "text": [
            "[[-0.         -0.         -0.          0.1080946  -0.19289592]\n",
            " [ 0.          0.          0.         -0.50637718  0.28376255]\n",
            " [ 0.          0.         -0.         -0.05494342  0.0980471 ]\n",
            " [ 0.          0.         -0.          0.09486041 -0.16927938]\n",
            " [ 0.          0.          0.          0.14275173 -0.0799949 ]]\n"
          ],
          "name": "stdout"
        }
      ]
    },
    {
      "metadata": {
        "id": "KjnY28LjjLEC",
        "colab_type": "text"
      },
      "cell_type": "markdown",
      "source": [
        "Check if your `q` and `r` agree with `qq` and `rr`. Explain."
      ]
    },
    {
      "metadata": {
        "id": "URuZ19dWjLEE",
        "colab_type": "text"
      },
      "cell_type": "markdown",
      "source": [
        "*Enter your explanation here (Russian or English, up to you)*\n",
        "\n",
        "Как видно, с точностью до знаков некоторых элементов наша матрица $r$ и библиотечная $rr$ совпвдвют.\n",
        "\n",
        "Аналогично совпадают левые части матриц $q$ и $qq$ (те, которые участвуют в thin qr разложении). Оставшиеся две колонки, которые не совпали,  при разложении умножаются на нули, поэтому важной роли не играют.\n",
        "\n",
        "Также, при произведении $qq$ и $rr$ знаки, которые поменялись, компенсируют друг друга, и в результате тоже получается матрица $a$."
      ]
    },
    {
      "metadata": {
        "id": "1rMCOMARjLEF",
        "colab_type": "text"
      },
      "cell_type": "markdown",
      "source": [
        "# Part III. Avoid forming Householder matrices explicitly."
      ]
    },
    {
      "metadata": {
        "id": "uMq-xDRejLEG",
        "colab_type": "text"
      },
      "cell_type": "markdown",
      "source": [
        "Note the special structure of the Householder matrices: A reflector $\\mathbf{H}$ is completely specified by a reflection vector $\\mathbf{u}$. Also note that the computational cost of applying a reflector to a matrix strongly depends on the order of operations:\n",
        "\n",
        "$$\n",
        "\\left( \\mathbf{u} \\mathbf{u}^T \\right) \\mathbf{A}  \\qquad \\textrm{is } O(m^2 n)\\;,\n",
        "$$\n",
        "while\n",
        "$$\n",
        "\\mathbf{u} \\left( \\mathbf{u}^T \\mathbf{A} \\right) \\qquad \\textrm{is } O(mn)\n",
        "$$\n",
        "\n",
        "Thus, it seems to make sense to *avoid* forming the $\\mathbf{H}$ matrices. Instead, one stores the reflection vectors, $\\mathbf{u}$, themselves, and provides a way of multiplying an arbitrary matrix by $\\mathbf{Q}^T$, e.g., as a standalone function (or a class)."
      ]
    },
    {
      "metadata": {
        "id": "RYb-SmDSjLEJ",
        "colab_type": "text"
      },
      "cell_type": "markdown",
      "source": [
        "Write a function which constructs the `QR` decomposition of a matrix *without ever forming the* $\\mathbf{H}$ matrices, and returns the $\\mathbf{R}$ matrix and reflection vectors. Write a second function, which uses the reflection vertices to multiply a matrix with $\\mathbf{Q}^T$. Make sure to include enough comments for a marker to follow your implementation, and add tests."
      ]
    },
    {
      "metadata": {
        "id": "F234jT9pjLEL",
        "colab_type": "code",
        "colab": {}
      },
      "cell_type": "code",
      "source": [
        "def get_u(vec):\n",
        "     \"\"\"Construct normal vector u.\n",
        "\n",
        "    Parameters\n",
        "    ----------\n",
        "    vec : array-like of floats, shape (n,)\n",
        "        Input vector\n",
        "    \n",
        "    Returns\n",
        "    -------\n",
        "    u : array of floats, shape (n,)\n",
        "        Vector, with is used to transform vec to outvec: ``outvec[1:]==0`` and ``|outvec| == |vec|``\n",
        "    \n",
        "    \"\"\"\n",
        "  \n",
        "    vec = np.asarray(vec, dtype=float)\n",
        "    if vec.ndim != 1:\n",
        "        raise ValueError(\"vec.ndim = %s, expected 1\" % vec.ndim)\n",
        "        \n",
        "    if len(vec)==1:\n",
        "      return vec\n",
        "    \n",
        "    norm=np.linalg.norm(vec)\n",
        "    outvec=np.array([0]*len(vec))*1.0\n",
        "    outvec[0]=norm\n",
        "    u=(vec-outvec)/np.linalg.norm(vec-outvec)\n",
        "\n",
        "    return u"
      ],
      "execution_count": 0,
      "outputs": []
    },
    {
      "metadata": {
        "id": "nCUmuZGJL7e4",
        "colab_type": "code",
        "colab": {}
      },
      "cell_type": "code",
      "source": [
        "def qr_decomp(a):\n",
        "    \"\"\"Compute the QR decomposition of a matrix without Householder matrixes.\n",
        "    \n",
        "    Parameters\n",
        "    ----------\n",
        "    a : ndarray, shape(m, n)\n",
        "        The input matrix\n",
        "    \n",
        "    Returns\n",
        "    -------\n",
        "    U : list of ndarrays of shape(m)\n",
        "        The list of used vectors u\n",
        "    R : ndarray, shape(m, n)\n",
        "        The upper triangular matrix\n",
        "    \n",
        "    \"\"\"\n",
        "    \n",
        "    a1 = np.array(a, copy=True, dtype=float)\n",
        "    m, n = a1.shape\n",
        "  \n",
        "    # ENTER YOUR CODE HERE\n",
        "    R=a1*1.0\n",
        "    U=[]\n",
        "    for i in range(min(m,n)):\n",
        "      a_i=R[i:,i:]\n",
        "      u=get_u(a_i[:,0])\n",
        "      u_big=np.zeros(m)\n",
        "      u_big[i:]=u\n",
        "      U.append(u_big)\n",
        "      R-=2*np.outer(u_big,np.dot(u_big,R))\n",
        "    \n",
        "    return U,R"
      ],
      "execution_count": 0,
      "outputs": []
    },
    {
      "metadata": {
        "id": "5-GZLCLfSvgN",
        "colab_type": "code",
        "colab": {}
      },
      "cell_type": "code",
      "source": [
        "def mult_by_Q_T(a1,U):\n",
        "  \"\"\"Последовательно преобразуем матрицу а1 к матрице R, используя найденные векторы u.\n",
        "  Применение этой функции к матрице равносильно умножению слева на матрицу Q_T\"\"\"\n",
        "  \n",
        "  a=a1*1.0\n",
        "  for u in U:\n",
        "    a-=2*np.outer(u,np.dot(u,a))\n",
        "  return a"
      ],
      "execution_count": 0,
      "outputs": []
    },
    {
      "metadata": {
        "id": "t2hNl93gOrOK",
        "colab_type": "code",
        "colab": {
          "base_uri": "https://localhost:8080/",
          "height": 102
        },
        "outputId": "6700ee97-d840-4546-f0b3-9bcdfdd85d0b"
      },
      "cell_type": "code",
      "source": [
        "rndm = np.random.RandomState(1234)\n",
        "a = rndm.uniform(size=(5, 3))\n",
        "U, r_new = qr_decomp(a)\n",
        "\n",
        "print(r-r_new)"
      ],
      "execution_count": 188,
      "outputs": [
        {
          "output_type": "stream",
          "text": [
            "[[ 0. -0. -0.]\n",
            " [ 0.  0.  0.]\n",
            " [-0.  0.  0.]\n",
            " [ 0. -0.  0.]\n",
            " [-0.  0. -0.]]\n"
          ],
          "name": "stdout"
        }
      ]
    },
    {
      "metadata": {
        "id": "DN_ikUCGWf-4",
        "colab_type": "text"
      },
      "cell_type": "markdown",
      "source": [
        "Как видно, полученная матрица R совпадает с матрицей из предыдущего задания.\n",
        "\n",
        "Проверим, что функция произведений тоже даёт верный результат."
      ]
    },
    {
      "metadata": {
        "id": "cTtB7-8SVWdu",
        "colab_type": "code",
        "colab": {
          "base_uri": "https://localhost:8080/",
          "height": 102
        },
        "outputId": "3130bf5b-df8c-4876-b770-f8eff726ee64"
      },
      "cell_type": "code",
      "source": [
        "r_new_new=mult_by_Q_T(a,U)\n",
        "print(r-r_new_new)"
      ],
      "execution_count": 189,
      "outputs": [
        {
          "output_type": "stream",
          "text": [
            "[[ 0. -0. -0.]\n",
            " [ 0.  0.  0.]\n",
            " [-0.  0.  0.]\n",
            " [ 0. -0.  0.]\n",
            " [-0.  0. -0.]]\n"
          ],
          "name": "stdout"
        }
      ]
    },
    {
      "metadata": {
        "id": "j13z054iXVxM",
        "colab_type": "text"
      },
      "cell_type": "markdown",
      "source": [
        "Снова всё верно."
      ]
    },
    {
      "metadata": {
        "id": "fJt8ipaUXX7o",
        "colab_type": "code",
        "colab": {}
      },
      "cell_type": "code",
      "source": [
        ""
      ],
      "execution_count": 0,
      "outputs": []
    }
  ]
}